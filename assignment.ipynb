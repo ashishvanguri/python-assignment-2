{
 "cells": [
  {
   "cell_type": "code",
   "execution_count": 1,
   "metadata": {},
   "outputs": [
    {
     "name": "stdout",
     "output_type": "stream",
     "text": [
      "Enter the year2016\n",
      "Monkey\n"
     ]
    }
   ],
   "source": [
    "y = int(input(\"Enter the year\"))\n",
    "if y%12 == 0:\n",
    "    print(\"Monkey\")\n",
    "elif y%12 == 1:\n",
    "    print(\"Rooster\")\n",
    "elif y%12 == 2:\n",
    "    print(\"Dog\")\n",
    "elif y%12 == 3:\n",
    "    print(\"Pig\")\n",
    "elif y%12 == 4:\n",
    "    print(\"Rat\")\n",
    "elif y%12 == 5:\n",
    "    print(\"Ox\")\n",
    "elif y%12 == 6:\n",
    "    print(\"Tiger\")\n",
    "elif y%12 == 7:\n",
    "    print(\"Rabbit\")\n",
    "elif y%12 == 8:\n",
    "    print(\"Dragon\")\n",
    "elif y % 12 == 9:\n",
    "    print(\"Snake\")\n",
    "elif y%12 == 10:\n",
    "    print(\"Horse\")\n",
    "else:\n",
    "    print(\"Sheep\")"
   ]
  },
  {
   "cell_type": "code",
   "execution_count": 2,
   "metadata": {},
   "outputs": [
    {
     "name": "stdout",
     "output_type": "stream",
     "text": [
      "Enter distance to be travelled 200\n",
      "Enter weight 14\n",
      "Amount to be given is 1000.0\n"
     ]
    }
   ],
   "source": [
    "dist = float(input(\"Enter distance to be travelled \"))\n",
    "weight = float(input(\"Enter weight \"))\n",
    "if dist >= 500:\n",
    "    if weight >= 100:\n",
    "        print(\"Amount to be given is\",5*dist)\n",
    "    elif weight >= 10:\n",
    "        print(\"Amount to be given is\",6*dist)\n",
    "    else:\n",
    "        print(\"Amount to be given is\",7*dist)\n",
    "else:\n",
    "    if weight >= 100:\n",
    "        print(\"Amount to be given is\",8*dist)\n",
    "    else:\n",
    "        print(\"Amount to be given is\",5*dist)"
   ]
  },
  {
   "cell_type": "code",
   "execution_count": 2,
   "metadata": {},
   "outputs": [
    {
     "name": "stdout",
     "output_type": "stream",
     "text": [
      "Enter 1 for stalls \n",
      "Enter 2 for circle \n",
      "Enter 3 for Upper Class \n",
      "Enter 4 for Box \n",
      "Enter 0 to exit\n",
      "Enter your choice 3\n",
      "Enter mode of paymentcash\n",
      "Total Amount to be paid is 850\n",
      "Enter 1 for stalls \n",
      "Enter 2 for circle \n",
      "Enter 3 for Upper Class \n",
      "Enter 4 for Box \n",
      "Enter 0 to exit\n",
      "Enter your choice 0\n",
      "Wrong input Entered\n",
      "**--End of the program--**\n"
     ]
    }
   ],
   "source": [
    "ch = 10\n",
    "while ch != 0:\n",
    "    print(\"Enter 1 for stalls \\nEnter 2 for circle \\nEnter 3 for Upper Class \\nEnter 4 for Box \\nEnter 0 to exit\")\n",
    "    ch = int(input(\"Enter your choice \"))\n",
    "    if ch == 1:\n",
    "        cost = 625\n",
    "    elif ch == 2:\n",
    "        cost = 750\n",
    "    elif ch == 3:\n",
    "        cost = 850\n",
    "    elif ch == 4:\n",
    "        cost = 1000\n",
    "    else:\n",
    "        print(\"Wrong input Entered\")\n",
    "    if ch == 1 or ch ==2 or ch==3 or ch==4:\n",
    "        payment = str(input(\"Enter mode of payment\"))\n",
    "        if payment.lower() == 'cash':\n",
    "            print(\"Total Amount to be paid is\",cost)\n",
    "        elif payment.lower() == 'credit card':\n",
    "            print(\"Total amount to be paid is\",cost*19/20)\n",
    "print(\"**--End of the program--**\")"
   ]
  },
  {
   "cell_type": "code",
   "execution_count": 3,
   "metadata": {},
   "outputs": [
    {
     "name": "stdout",
     "output_type": "stream",
     "text": [
      "Enter weight of the water 10\n",
      "Enter initial temperature45\n",
      "Enter final temperature54\n",
      "Energy required is 376560.0 Joules\n"
     ]
    }
   ],
   "source": [
    "weight = float(input(\"Enter weight of the water \"))\n",
    "i_temp = float(input(\"Enter initial temperature\"))\n",
    "f_temp = float(input(\"Enter final temperature\"))\n",
    "energy = weight*(f_temp - i_temp)*4184\n",
    "print(\"Energy required is {0} Joules\".format(energy))"
   ]
  },
  {
   "cell_type": "code",
   "execution_count": 5,
   "metadata": {},
   "outputs": [
    {
     "name": "stdout",
     "output_type": "stream",
     "text": [
      "Enter a month monday\n",
      "You have entered a name which doesnt exist please check your input\n"
     ]
    }
   ],
   "source": [
    "month = str(input(\"Enter a month \"))\n",
    "if month.lower() == 'january' or month.lower()=='february' or month.lower() == 'december':\n",
    "    print(\"Winter\")\n",
    "elif month.lower() == 'march' or month.lower()=='april' or month.lower() == 'may':\n",
    "    print(\"Spring\")\n",
    "elif month.lower() == 'june' or month.lower()=='july' or month.lower() == 'august':\n",
    "    print(\"Summer\")\n",
    "elif month.lower() == 'september' or month.lower()=='october' or month.lower() == 'november':\n",
    "    print(\"Autumn\")\n",
    "else:\n",
    "    print(\"You have entered a name which doesnt exist please check your input\")\n"
   ]
  },
  {
   "cell_type": "code",
   "execution_count": 7,
   "metadata": {},
   "outputs": [
    {
     "name": "stdout",
     "output_type": "stream",
     "text": [
      "Enter weight in pounds500\n",
      "Enter height in inches68\n",
      "BMI is  131.3078971746179\n",
      "Obese\n"
     ]
    }
   ],
   "source": [
    "weight = float(input(\"Enter weight in pounds \"))\n",
    "height = float(input(\"Enter height in inches \"))\n",
    "bmi = (weight*0.45359)/(height*0.0254)\n",
    "print(\"BMI is \",bmi)\n",
    "if bmi >= 30.0:\n",
    "    print(\"Obese\")\n",
    "elif bmi >=25.0:\n",
    "    print(\"Over-weight\")\n",
    "elif bmi >= 18.5:\n",
    "    print(\"Normal\")\n",
    "else:\n",
    "    print(\"Underweight\")"
   ]
  },
  {
   "cell_type": "code",
   "execution_count": 17,
   "metadata": {},
   "outputs": [
    {
     "name": "stdout",
     "output_type": "stream",
     "text": [
      "Enter a number154\n",
      "10\n"
     ]
    }
   ],
   "source": [
    "num = int(input(\"Enter a number\"))\n",
    "if num >= 1000:\n",
    "    print(\"Wrong input\")\n",
    "elif num < 100:\n",
    "    print(\"Wrong input\")\n",
    "else:\n",
    "    su = 0\n",
    "    while num>0:\n",
    "        rem = num%10\n",
    "        su = su + rem\n",
    "        num = num//10\n",
    "print(su)"
   ]
  },
  {
   "cell_type": "code",
   "execution_count": 19,
   "metadata": {},
   "outputs": [
    {
     "name": "stdout",
     "output_type": "stream",
     "text": [
      "1\n",
      "2\n",
      "3\n",
      "4\n",
      "5\n",
      "6\n",
      "7\n",
      "8\n",
      "9\n",
      "11\n",
      "22\n",
      "33\n",
      "44\n",
      "55\n",
      "66\n",
      "77\n",
      "88\n",
      "99\n",
      "101\n",
      "111\n",
      "121\n",
      "131\n",
      "141\n",
      "151\n",
      "161\n",
      "171\n",
      "181\n",
      "191\n",
      "202\n",
      "212\n",
      "222\n",
      "232\n",
      "242\n",
      "252\n",
      "262\n",
      "272\n",
      "282\n",
      "292\n",
      "303\n",
      "313\n",
      "323\n",
      "333\n",
      "343\n",
      "353\n",
      "363\n",
      "373\n",
      "383\n",
      "393\n",
      "404\n",
      "414\n",
      "424\n",
      "434\n",
      "444\n",
      "454\n",
      "464\n",
      "474\n",
      "484\n",
      "494\n",
      "505\n",
      "515\n",
      "525\n",
      "535\n",
      "545\n",
      "555\n",
      "565\n",
      "575\n",
      "585\n",
      "595\n",
      "606\n",
      "616\n",
      "626\n",
      "636\n",
      "646\n",
      "656\n",
      "666\n",
      "676\n",
      "686\n",
      "696\n",
      "707\n",
      "717\n",
      "727\n",
      "737\n",
      "747\n",
      "757\n",
      "767\n",
      "777\n",
      "787\n",
      "797\n",
      "808\n",
      "818\n",
      "828\n",
      "838\n",
      "848\n",
      "858\n",
      "868\n",
      "878\n",
      "888\n",
      "898\n",
      "909\n",
      "919\n",
      "929\n",
      "939\n",
      "949\n",
      "959\n",
      "969\n",
      "979\n",
      "989\n",
      "999\n"
     ]
    }
   ],
   "source": [
    "for i in range(1,1000):\n",
    "    j = i\n",
    "    su = 0\n",
    "    while (j > 0):\n",
    "        rem = j % 10\n",
    "        su = su * 10 + rem\n",
    "        j = j // 10\n",
    "    if i == su:\n",
    "        print(su)"
   ]
  },
  {
   "cell_type": "code",
   "execution_count": 20,
   "metadata": {},
   "outputs": [
    {
     "name": "stdout",
     "output_type": "stream",
     "text": [
      "1\n",
      "153\n",
      "370\n",
      "371\n",
      "407\n"
     ]
    }
   ],
   "source": [
    "for i in range(1,1000):\n",
    "    j = i\n",
    "    su = 0\n",
    "    while (j > 0):\n",
    "        rem = j % 10\n",
    "        su = su + rem*rem*rem\n",
    "        j = j // 10\n",
    "    if i == su:\n",
    "        print(su)"
   ]
  },
  {
   "cell_type": "code",
   "execution_count": 21,
   "metadata": {},
   "outputs": [
    {
     "name": "stdout",
     "output_type": "stream",
     "text": [
      "fizz\n",
      "buzz\n",
      "fizz\n",
      "fizz\n",
      "buzz\n",
      "fizz\n",
      "fizz buzz\n",
      "fizz\n",
      "buzz\n",
      "fizz\n",
      "fizz\n",
      "buzz\n",
      "fizz\n",
      "fizz buzz\n",
      "fizz\n",
      "buzz\n",
      "fizz\n",
      "fizz\n",
      "buzz\n",
      "fizz\n",
      "fizz buzz\n",
      "fizz\n",
      "buzz\n",
      "fizz\n",
      "fizz\n",
      "buzz\n",
      "fizz\n",
      "fizz buzz\n",
      "fizz\n",
      "buzz\n",
      "fizz\n",
      "fizz\n",
      "buzz\n",
      "fizz\n",
      "fizz buzz\n",
      "fizz\n",
      "buzz\n",
      "fizz\n",
      "fizz\n",
      "buzz\n",
      "fizz\n",
      "fizz buzz\n",
      "fizz\n",
      "buzz\n",
      "fizz\n",
      "fizz\n"
     ]
    }
   ],
   "source": [
    "for i in range(1,100):\n",
    "    if i%15==0:\n",
    "        print(\"fizz buzz\")\n",
    "    elif i%3 == 0:\n",
    "        print(\"fizz\")\n",
    "    elif i%5 == 0:\n",
    "        print(\"buzz\")\n"
   ]
  },
  {
   "cell_type": "code",
   "execution_count": 22,
   "metadata": {},
   "outputs": [
    {
     "name": "stdout",
     "output_type": "stream",
     "text": [
      "Enter the height of well:15\n",
      "Enter steps  climbed up in meters:3\n",
      "Enter slips down:1\n",
      "8\n"
     ]
    }
   ],
   "source": [
    "H=int(input(\"Enter the height of well:\"))\n",
    "U=int(input(\"Enter steps  climbed up in meters:\"))\n",
    "D=int(input(\"Enter slips down:\"))\n",
    "N=((H-U)+(U-D))//(U-D)\n",
    "print(N+1)"
   ]
  },
  {
   "cell_type": "code",
   "execution_count": null,
   "metadata": {},
   "outputs": [],
   "source": []
  }
 ],
 "metadata": {
  "kernelspec": {
   "display_name": "Python 3",
   "language": "python",
   "name": "python3"
  },
  "language_info": {
   "codemirror_mode": {
    "name": "ipython",
    "version": 3
   },
   "file_extension": ".py",
   "mimetype": "text/x-python",
   "name": "python",
   "nbconvert_exporter": "python",
   "pygments_lexer": "ipython3",
   "version": "3.7.6"
  }
 },
 "nbformat": 4,
 "nbformat_minor": 4
}
